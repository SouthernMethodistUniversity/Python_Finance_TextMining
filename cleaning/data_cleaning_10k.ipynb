{
 "cells": [
  {
   "cell_type": "markdown",
   "metadata": {
    "toc": "true"
   },
   "source": [
    "# Table of Contents\n",
    " <p>"
   ]
  },
  {
   "cell_type": "code",
   "execution_count": null,
   "metadata": {},
   "outputs": [],
   "source": [
    "import pandas as pd\n",
    "from bs4 import BeautifulSoup\n",
    "import numpy as np\n",
    "import os"
   ]
  },
  {
   "cell_type": "code",
   "execution_count": null,
   "metadata": {},
   "outputs": [],
   "source": [
    "def read_function(filename):\n",
    "    ll = []\n",
    "    with open(filename) as f:\n",
    "        contents = f.read()\n",
    "    contents = contents.split('<FILENAME>')[1]\n",
    "    s = BeautifulSoup(contents, \"html.parser\")\n",
    "    f = s.find_all('p')\n",
    "    if len(f)<5:\n",
    "        f = s.find_all('div')\n",
    "\n",
    "    for i in range(len(f)):\n",
    "        tt = f[i].text\n",
    "        if tt is not None:\n",
    "            ll = np.append(ll,tt)\n",
    "    result = \" \".join(ll).replace(u'\\xa0', u' ').replace(u'\\n',u' ').replace(u'\\t',u' ')\n",
    "    result = \" \".join(result.split())\n",
    "    \n",
    "    name = filename.split('_')[0]\n",
    "    date = filename.split('_')[1].split('.')[0]\n",
    "    \n",
    "    print('Done: '+filename)\n",
    "    \n",
    "    #return s\n",
    "    return (name, date, result)"
   ]
  },
  {
   "cell_type": "code",
   "execution_count": null,
   "metadata": {},
   "outputs": [],
   "source": [
    "filelist= os.listdir('data10k')\n",
    "filelist"
   ]
  },
  {
   "cell_type": "code",
   "execution_count": null,
   "metadata": {},
   "outputs": [],
   "source": [
    "df =pd.DataFrame(columns=['Name','Date','Story'])\n",
    "for f in filelist:\n",
    "    info = read_function('data10k/'+f)\n",
    "    df = df.append({'Name':info[0],'Date':info[1],\"Story\":info[2]}, ignore_index=True)"
   ]
  },
  {
   "cell_type": "code",
   "execution_count": null,
   "metadata": {},
   "outputs": [],
   "source": [
    "df[\"Date\"]=pd.to_datetime(df[\"Date\"])"
   ]
  },
  {
   "cell_type": "code",
   "execution_count": null,
   "metadata": {},
   "outputs": [],
   "source": [
    "df['Name'] = df['Name'].apply(lambda x: x.split('/')[-1])"
   ]
  },
  {
   "cell_type": "code",
   "execution_count": null,
   "metadata": {},
   "outputs": [],
   "source": [
    "df.to_csv('finance_data_10k.csv', index=False, encoding='utf8')"
   ]
  },
  {
   "cell_type": "code",
   "execution_count": null,
   "metadata": {
    "collapsed": true
   },
   "outputs": [],
   "source": [
    "df"
   ]
  },
  {
   "cell_type": "code",
   "execution_count": null,
   "metadata": {},
   "outputs": [],
   "source": []
  }
 ],
 "metadata": {
  "kernelspec": {
   "display_name": "Python 3",
   "language": "python",
   "name": "python3"
  },
  "language_info": {
   "codemirror_mode": {
    "name": "ipython",
    "version": 3
   },
   "file_extension": ".py",
   "mimetype": "text/x-python",
   "name": "python",
   "nbconvert_exporter": "python",
   "pygments_lexer": "ipython3",
   "version": "3.6.7"
  },
  "nav_menu": {},
  "toc": {
   "navigate_menu": true,
   "number_sections": false,
   "sideBar": false,
   "threshold": 6,
   "toc_cell": true,
   "toc_section_display": "block",
   "toc_window_display": false
  }
 },
 "nbformat": 4,
 "nbformat_minor": 2
}
